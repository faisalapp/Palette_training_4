{
  "nbformat": 4,
  "nbformat_minor": 0,
  "metadata": {
    "colab": {
      "provenance": []
    },
    "kernelspec": {
      "name": "python3",
      "display_name": "Python 3"
    },
    "language_info": {
      "name": "python"
    }
  },
  "cells": [
    {
      "cell_type": "markdown",
      "source": [
        "# Assignment 4"
      ],
      "metadata": {
        "id": "xRFQJjmAgPPv"
      }
    },
    {
      "cell_type": "markdown",
      "source": [
        "\n",
        "Please do not change, delete or edit any cells. Write your code in between designated lines."
      ],
      "metadata": {
        "id": "eLY9HOokgoNX"
      }
    },
    {
      "cell_type": "markdown",
      "source": [
        "## Question 1 (25 points)"
      ],
      "metadata": {
        "id": "0iiZnyE_hHm4"
      }
    },
    {
      "cell_type": "code",
      "source": [
        "# Please go to Palette_training_4 GitHub repo and \n",
        "# 1. Read Sask_RM_data.csv.\n",
        "# 2. Rename column namse Crop Year, Canola - bu/ac, Spring Wheat - bu/ac with\n",
        "# Year, Canola, SpringWheat respectively."
      ],
      "metadata": {
        "id": "jwfycLiWgVa0"
      },
      "execution_count": null,
      "outputs": []
    },
    {
      "cell_type": "code",
      "source": [
        "# 1. Read csv file by using pandas \n",
        "\n",
        "## Your code here - down ##\n",
        "\n",
        "## Your code here - up ##"
      ],
      "metadata": {
        "id": "1SX-x2rqkvbV"
      },
      "execution_count": null,
      "outputs": []
    },
    {
      "cell_type": "code",
      "source": [
        "# 2. Rename columns\n",
        "\n",
        "## Your code here - down ##\n",
        "\n",
        "## Your code here - up ##"
      ],
      "metadata": {
        "id": "cdGqn-qvksVg"
      },
      "execution_count": null,
      "outputs": []
    },
    {
      "cell_type": "markdown",
      "source": [
        "Question 2 (65 points)"
      ],
      "metadata": {
        "id": "CVL1VhWNj06v"
      }
    },
    {
      "cell_type": "code",
      "source": [
        "# 1. How many missing values in each column? \n",
        "\n",
        "## Your code here - down ##\n",
        "\n",
        "## Your code here - up ##"
      ],
      "metadata": {
        "id": "obXacM3uiCcE"
      },
      "execution_count": null,
      "outputs": []
    },
    {
      "cell_type": "code",
      "source": [
        "# 2. Find unique values of RMs(Rural Municipalities).\n",
        "\n",
        "## Your code here - down ##\n",
        "\n",
        "## Your code here - up ##"
      ],
      "metadata": {
        "id": "wNZcRd9bkhTS"
      },
      "execution_count": null,
      "outputs": []
    },
    {
      "cell_type": "code",
      "source": [
        "# 3. Use groupby() and find top 10 RMs in terms of average Canola yield through 10 years.\n",
        "\n",
        "## Your code here - down ##\n",
        "\n",
        "## Your code here - up ##"
      ],
      "metadata": {
        "id": "X-7AiMCZkiji"
      },
      "execution_count": null,
      "outputs": []
    },
    {
      "cell_type": "code",
      "source": [
        "# 4. Use groupby() function and find worst 10 RMs in terms of average Spring Wheat through 10 years.\n",
        "\n",
        "## Your code here - down ##\n",
        "\n",
        "## Your code here - up ##"
      ],
      "metadata": {
        "id": "JqIEftfSmJha"
      },
      "execution_count": null,
      "outputs": []
    },
    {
      "cell_type": "code",
      "source": [
        "# 4. Use groupby() function and find worst 3 best years in terms of average Spring Wheat.\n",
        "\n",
        "## Your code here - down ##\n",
        "\n",
        "## Your code here - up ##"
      ],
      "metadata": {
        "id": "_u735AcFmyKX"
      },
      "execution_count": null,
      "outputs": []
    },
    {
      "cell_type": "code",
      "source": [
        "# 5. Use groupby() function and find worst 3 years in terms of average Spring Wheat through 10 years.\n",
        "\n",
        "## Your code here - down ##\n",
        "\n",
        "## Your code here - up ##"
      ],
      "metadata": {
        "id": "VIeb0E0SmSYf"
      },
      "execution_count": null,
      "outputs": []
    },
    {
      "cell_type": "markdown",
      "source": [
        "## Question 3 (10 points)"
      ],
      "metadata": {
        "id": "jmsH1mGWpu3L"
      }
    },
    {
      "cell_type": "markdown",
      "source": [
        "This task is independent exploratory data analysis. Find key insights from the dataset and share your code by creating new cells."
      ],
      "metadata": {
        "id": "U6OG5ANHp39Y"
      }
    }
  ]
}